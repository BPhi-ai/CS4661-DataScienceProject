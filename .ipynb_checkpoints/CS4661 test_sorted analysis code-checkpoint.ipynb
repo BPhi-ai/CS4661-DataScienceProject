{
 "cells": [
  {
   "cell_type": "code",
   "execution_count": 1,
   "id": "c500f4e2",
   "metadata": {
    "pycharm": {
     "name": "#%%\n"
    },
    "scrolled": true
   },
   "outputs": [
    {
     "data": {
      "text/html": [
       "<div>\n",
       "<style scoped>\n",
       "    .dataframe tbody tr th:only-of-type {\n",
       "        vertical-align: middle;\n",
       "    }\n",
       "\n",
       "    .dataframe tbody tr th {\n",
       "        vertical-align: top;\n",
       "    }\n",
       "\n",
       "    .dataframe thead th {\n",
       "        text-align: right;\n",
       "    }\n",
       "</style>\n",
       "<table border=\"1\" class=\"dataframe\">\n",
       "  <thead>\n",
       "    <tr style=\"text-align: right;\">\n",
       "      <th></th>\n",
       "      <th>user_id</th>\n",
       "      <th>question_id</th>\n",
       "      <th>question_type</th>\n",
       "      <th>group_name</th>\n",
       "      <th>track_name</th>\n",
       "      <th>subtrack_name</th>\n",
       "      <th>tag_string</th>\n",
       "      <th>game_type</th>\n",
       "      <th>num_players</th>\n",
       "      <th>question_set_id</th>\n",
       "    </tr>\n",
       "  </thead>\n",
       "  <tbody>\n",
       "    <tr>\n",
       "      <th>0</th>\n",
       "      <td>0</td>\n",
       "      <td>2928</td>\n",
       "      <td>MultipleChoiceOneCorrect</td>\n",
       "      <td>act</td>\n",
       "      <td>ACT Reading</td>\n",
       "      <td>Reading</td>\n",
       "      <td>Author's Purpose or Method|Humanities|Meaning-...</td>\n",
       "      <td>PracticeGame</td>\n",
       "      <td>1</td>\n",
       "      <td>687</td>\n",
       "    </tr>\n",
       "    <tr>\n",
       "      <th>1</th>\n",
       "      <td>1</td>\n",
       "      <td>1668</td>\n",
       "      <td>MultipleChoiceOneCorrect</td>\n",
       "      <td>gmat</td>\n",
       "      <td>GMAT Quantitative</td>\n",
       "      <td>Problem Solving</td>\n",
       "      <td>Algebra|Interest|Problem Solving|Word Problems</td>\n",
       "      <td>CompetitiveGame</td>\n",
       "      <td>1</td>\n",
       "      <td>2952</td>\n",
       "    </tr>\n",
       "    <tr>\n",
       "      <th>2</th>\n",
       "      <td>2</td>\n",
       "      <td>4629</td>\n",
       "      <td>MultipleChoiceOneCorrect</td>\n",
       "      <td>act</td>\n",
       "      <td>ACT Reading</td>\n",
       "      <td>Reading</td>\n",
       "      <td>Main Idea of Paragraph or Passage|Order and Or...</td>\n",
       "      <td>DiagnosticGame</td>\n",
       "      <td>1</td>\n",
       "      <td>701</td>\n",
       "    </tr>\n",
       "    <tr>\n",
       "      <th>3</th>\n",
       "      <td>4</td>\n",
       "      <td>2488</td>\n",
       "      <td>MultipleChoiceOneCorrect</td>\n",
       "      <td>gmat</td>\n",
       "      <td>GMAT Verbal</td>\n",
       "      <td>Critical Reasoning</td>\n",
       "      <td>CR: Resolve Argument|Critical Reasoning</td>\n",
       "      <td>PracticeGame</td>\n",
       "      <td>2</td>\n",
       "      <td>2256</td>\n",
       "    </tr>\n",
       "    <tr>\n",
       "      <th>4</th>\n",
       "      <td>5</td>\n",
       "      <td>4505</td>\n",
       "      <td>MultipleChoiceOneCorrect</td>\n",
       "      <td>sat</td>\n",
       "      <td>SAT Writing</td>\n",
       "      <td>Improving Sentences</td>\n",
       "      <td>Improving Sentences|Parallel Structure|Word ch...</td>\n",
       "      <td>PracticeGame</td>\n",
       "      <td>1</td>\n",
       "      <td>1318</td>\n",
       "    </tr>\n",
       "    <tr>\n",
       "      <th>...</th>\n",
       "      <td>...</td>\n",
       "      <td>...</td>\n",
       "      <td>...</td>\n",
       "      <td>...</td>\n",
       "      <td>...</td>\n",
       "      <td>...</td>\n",
       "      <td>...</td>\n",
       "      <td>...</td>\n",
       "      <td>...</td>\n",
       "      <td>...</td>\n",
       "    </tr>\n",
       "    <tr>\n",
       "      <th>82921</th>\n",
       "      <td>181697</td>\n",
       "      <td>1609</td>\n",
       "      <td>MultipleChoiceOneCorrect</td>\n",
       "      <td>sat</td>\n",
       "      <td>SAT Writing</td>\n",
       "      <td>Improving Sentences</td>\n",
       "      <td>Conjunctions|Improving Sentences</td>\n",
       "      <td>PracticeGame</td>\n",
       "      <td>1</td>\n",
       "      <td>1314</td>\n",
       "    </tr>\n",
       "    <tr>\n",
       "      <th>82922</th>\n",
       "      <td>181698</td>\n",
       "      <td>2315</td>\n",
       "      <td>MultipleChoiceOneCorrect</td>\n",
       "      <td>sat</td>\n",
       "      <td>SAT Writing</td>\n",
       "      <td>Improving Sentences</td>\n",
       "      <td>Comparisons|Improving Sentences|Parallel Struc...</td>\n",
       "      <td>DiagnosticGame</td>\n",
       "      <td>1</td>\n",
       "      <td>1266</td>\n",
       "    </tr>\n",
       "    <tr>\n",
       "      <th>82923</th>\n",
       "      <td>181699</td>\n",
       "      <td>1483</td>\n",
       "      <td>MultipleChoiceOneCorrect</td>\n",
       "      <td>gmat</td>\n",
       "      <td>GMAT Verbal</td>\n",
       "      <td>Sentence Correction</td>\n",
       "      <td>SC: Agreement|SC: Logical Predication/Modifica...</td>\n",
       "      <td>ReviewGame</td>\n",
       "      <td>1</td>\n",
       "      <td>2585</td>\n",
       "    </tr>\n",
       "    <tr>\n",
       "      <th>82924</th>\n",
       "      <td>181701</td>\n",
       "      <td>1329</td>\n",
       "      <td>MultipleChoiceOneCorrect</td>\n",
       "      <td>gmat</td>\n",
       "      <td>GMAT Verbal</td>\n",
       "      <td>Sentence Correction</td>\n",
       "      <td>SC: Parallelism|Sentence Correction</td>\n",
       "      <td>CustomGame</td>\n",
       "      <td>1</td>\n",
       "      <td>2655</td>\n",
       "    </tr>\n",
       "    <tr>\n",
       "      <th>82925</th>\n",
       "      <td>181702</td>\n",
       "      <td>1917</td>\n",
       "      <td>MultipleChoiceOneCorrect</td>\n",
       "      <td>sat</td>\n",
       "      <td>SAT Reading</td>\n",
       "      <td>Sentence Completion</td>\n",
       "      <td>SC: Difficult Vocabulary|SC: One Blank|Sentenc...</td>\n",
       "      <td>DiagnosticGame</td>\n",
       "      <td>1</td>\n",
       "      <td>896</td>\n",
       "    </tr>\n",
       "  </tbody>\n",
       "</table>\n",
       "<p>82926 rows × 10 columns</p>\n",
       "</div>"
      ],
      "text/plain": [
       "       user_id  question_id             question_type group_name  \\\n",
       "0            0         2928  MultipleChoiceOneCorrect        act   \n",
       "1            1         1668  MultipleChoiceOneCorrect       gmat   \n",
       "2            2         4629  MultipleChoiceOneCorrect        act   \n",
       "3            4         2488  MultipleChoiceOneCorrect       gmat   \n",
       "4            5         4505  MultipleChoiceOneCorrect        sat   \n",
       "...        ...          ...                       ...        ...   \n",
       "82921   181697         1609  MultipleChoiceOneCorrect        sat   \n",
       "82922   181698         2315  MultipleChoiceOneCorrect        sat   \n",
       "82923   181699         1483  MultipleChoiceOneCorrect       gmat   \n",
       "82924   181701         1329  MultipleChoiceOneCorrect       gmat   \n",
       "82925   181702         1917  MultipleChoiceOneCorrect        sat   \n",
       "\n",
       "              track_name        subtrack_name  \\\n",
       "0            ACT Reading              Reading   \n",
       "1      GMAT Quantitative      Problem Solving   \n",
       "2            ACT Reading              Reading   \n",
       "3            GMAT Verbal   Critical Reasoning   \n",
       "4            SAT Writing  Improving Sentences   \n",
       "...                  ...                  ...   \n",
       "82921        SAT Writing  Improving Sentences   \n",
       "82922        SAT Writing  Improving Sentences   \n",
       "82923        GMAT Verbal  Sentence Correction   \n",
       "82924        GMAT Verbal  Sentence Correction   \n",
       "82925        SAT Reading  Sentence Completion   \n",
       "\n",
       "                                              tag_string        game_type  \\\n",
       "0      Author's Purpose or Method|Humanities|Meaning-...     PracticeGame   \n",
       "1         Algebra|Interest|Problem Solving|Word Problems  CompetitiveGame   \n",
       "2      Main Idea of Paragraph or Passage|Order and Or...   DiagnosticGame   \n",
       "3                CR: Resolve Argument|Critical Reasoning     PracticeGame   \n",
       "4      Improving Sentences|Parallel Structure|Word ch...     PracticeGame   \n",
       "...                                                  ...              ...   \n",
       "82921                   Conjunctions|Improving Sentences     PracticeGame   \n",
       "82922  Comparisons|Improving Sentences|Parallel Struc...   DiagnosticGame   \n",
       "82923  SC: Agreement|SC: Logical Predication/Modifica...       ReviewGame   \n",
       "82924                SC: Parallelism|Sentence Correction       CustomGame   \n",
       "82925  SC: Difficult Vocabulary|SC: One Blank|Sentenc...   DiagnosticGame   \n",
       "\n",
       "       num_players question_set_id  \n",
       "0                1             687  \n",
       "1                1            2952  \n",
       "2                1             701  \n",
       "3                2            2256  \n",
       "4                1            1318  \n",
       "...            ...             ...  \n",
       "82921            1            1314  \n",
       "82922            1            1266  \n",
       "82923            1            2585  \n",
       "82924            1            2655  \n",
       "82925            1             896  \n",
       "\n",
       "[82926 rows x 10 columns]"
      ]
     },
     "execution_count": 1,
     "metadata": {},
     "output_type": "execute_result"
    }
   ],
   "source": [
    "import pandas as pd\n",
    "\n",
    "\n",
    "df = pd.read_csv('test_sorted.csv')\n",
    "df = df.loc[:, ~df.columns.isin(['round_started_at', 'date_of_test'])];\n",
    "df"
   ]
  },
  {
   "cell_type": "code",
   "execution_count": 2,
   "id": "35fb609c",
   "metadata": {
    "scrolled": true
   },
   "outputs": [
    {
     "data": {
      "text/plain": [
       "user_id            0\n",
       "question_id        0\n",
       "question_type      0\n",
       "group_name         0\n",
       "track_name         0\n",
       "subtrack_name      0\n",
       "tag_string         0\n",
       "game_type          5\n",
       "num_players        0\n",
       "question_set_id    0\n",
       "dtype: int64"
      ]
     },
     "execution_count": 2,
     "metadata": {},
     "output_type": "execute_result"
    }
   ],
   "source": [
    "df.isnull().sum()"
   ]
  },
  {
   "cell_type": "code",
   "execution_count": 4,
   "id": "ba98cef5",
   "metadata": {},
   "outputs": [
    {
     "name": "stdout",
     "output_type": "stream",
     "text": [
      "['PracticeGame' 'CompetitiveGame' 'DiagnosticGame' 'CustomGame'\n",
      " 'StudyTaskGame' 'ComputerAdaptiveTestGame' 'ReviewGame' 'ChallengeGame'\n",
      " 'StudyHallGame' 'RecitationGame' nan 'BookmarkGame']\n"
     ]
    }
   ],
   "source": [
    "print(df['game_type'].unique())"
   ]
  },
  {
   "cell_type": "code",
   "execution_count": 5,
   "id": "94a5f77b",
   "metadata": {},
   "outputs": [
    {
     "name": "stdout",
     "output_type": "stream",
     "text": [
      "['Reading' 'Problem Solving' 'Critical Reasoning' 'Improving Sentences'\n",
      " 'Science' 'English' 'Multiple Choice' 'Data Sufficiency'\n",
      " 'Reading Comprehension' 'Math' 'Student Produced Response'\n",
      " 'Identifying Sentence Errors' 'Sentence Correction'\n",
      " 'Passage Based Reading' 'Sentence Completion' 'Improving Paragraphs']\n"
     ]
    }
   ],
   "source": [
    "print(df['subtrack_name'].unique())"
   ]
  },
  {
   "cell_type": "code",
   "execution_count": 6,
   "id": "eeb2f645",
   "metadata": {},
   "outputs": [
    {
     "name": "stdout",
     "output_type": "stream",
     "text": [
      "['ACT Reading' 'GMAT Quantitative' 'GMAT Verbal' 'SAT Writing'\n",
      " 'ACT Science' 'ACT English' 'SAT Math' 'ACT Math' 'SAT Reading']\n"
     ]
    }
   ],
   "source": [
    "print(df['track_name'].unique())"
   ]
  },
  {
   "cell_type": "code",
   "execution_count": 7,
   "id": "8e6873e8",
   "metadata": {},
   "outputs": [
    {
     "name": "stdout",
     "output_type": "stream",
     "text": [
      "[\"Author's Purpose or Method|Humanities|Meaning-in-context|Reading\"\n",
      " 'Algebra|Interest|Problem Solving|Word Problems'\n",
      " 'Main Idea of Paragraph or Passage|Order and Organization of Events and Ideas|Reading|Social Studies'\n",
      " ...\n",
      " 'Data interpretation (charts graphs and tables)|Math|Probability Combinations and Permutations'\n",
      " 'Chemistry|Data Analysis|Data Representation|Measurements|Research Summaries|Science'\n",
      " 'Clarity|Conjunctions|English|Independent/dependent clauses|Punctuation']\n"
     ]
    }
   ],
   "source": [
    "print(df['tag_string'].unique())"
   ]
  }
 ],
 "metadata": {
  "kernelspec": {
   "display_name": "Python 3 (ipykernel)",
   "language": "python",
   "name": "python3"
  },
  "language_info": {
   "codemirror_mode": {
    "name": "ipython",
    "version": 3
   },
   "file_extension": ".py",
   "mimetype": "text/x-python",
   "name": "python",
   "nbconvert_exporter": "python",
   "pygments_lexer": "ipython3",
   "version": "3.9.12"
  }
 },
 "nbformat": 4,
 "nbformat_minor": 5
}
